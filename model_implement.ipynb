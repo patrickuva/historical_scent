{
 "cells": [
  {
   "cell_type": "code",
   "execution_count": 1,
   "id": "428af16f-0062-4cef-b596-771f25cf90e9",
   "metadata": {},
   "outputs": [
    {
     "name": "stderr",
     "output_type": "stream",
     "text": [
      "/sw/arch/RHEL8/EB_production/2022/software/Python/3.10.4-GCCcore-11.3.0/lib/python3.10/site-packages/paramiko/transport.py:236: CryptographyDeprecationWarning: Blowfish has been deprecated\n",
      "  \"class\": algorithms.Blowfish,\n"
     ]
    }
   ],
   "source": [
    "from octis.models.NeuralLDA import NeuralLDA\n",
    "from octis.models.LDA import LDA\n",
    "from octis.models.NMF_scikit import NMF_scikit\n",
    "from octis.models.ETM import ETM\n",
    "from octis.dataset.dataset import Dataset\n",
    "from octis.evaluation_metrics.diversity_metrics import TopicDiversity\n",
    "from octis.evaluation_metrics.coherence_metrics import Coherence\n",
    "from octis.models.CTM import CTM\n",
    "from octis.dataset.dataset import Dataset\n",
    "from octis.optimization.optimizer import Optimizer\n",
    "from skopt.space.space import Real, Categorical, Integer\n",
    "from octis.evaluation_metrics.coherence_metrics import Coherence\n",
    "from octis.dataset.dataset import Dataset\n",
    "from skopt.space.space import Real, Categorical, Integer\n",
    "from octis.evaluation_metrics.coherence_metrics import Coherence\n",
    "from octis.evaluation_metrics.diversity_metrics import TopicDiversity\n",
    "from octis.optimization.optimizer import Optimizer\n",
    "optimizer=Optimizer()\n",
    "import time\n",
    "import en_core_web_sm\n",
    "nlp = en_core_web_sm.load()\n",
    "dataset = Dataset()\n",
    "dataset.load_custom_dataset_from_folder(\"pre_Flower_stop\")"
   ]
  },
  {
   "cell_type": "code",
   "execution_count": 10,
   "id": "2890dd6c-36b0-4d00-a5e3-ef0af6d24e4a",
   "metadata": {},
   "outputs": [],
   "source": [
    "#Creating a list of models with optimal parameters, found with OCTIS\n",
    "model_neural_lda = NeuralLDA(num_topics=10, num_neurons=150, num_layers=2, dropout=0.46174495687047284)\n",
    "model_NMF = NMF_scikit(num_topics=10, alpha=0.0002871719181692572)\n",
    "model_LDA = LDA(num_topics=10, alpha=0.0002871719181692572)\n",
    "model_CTM = CTM(num_topics=10, bert_path=\"all-mpnet-base-v2\", activation='sigmoid', dropout=0.6514267016354713, num_layers=3, num_neurons=200)\n",
    "model_ETM = ETM(num_topics=10, activation='softplus', dropout=0.4927880253307994, t_hidden_size=276)\n",
    "model_list = [model_neural_lda]#, model_CTM, model_ETM, model_NMF, model_LDA]"
   ]
  },
  {
   "cell_type": "code",
   "execution_count": 11,
   "id": "8d85d978-1929-4445-a143-fce68667f4aa",
   "metadata": {},
   "outputs": [
    {
     "name": "stdout",
     "output_type": "stream",
     "text": [
      "Epoch: [1/100]\tSamples: [32364/3236400]\tTrain Loss: 511.87890365500635\tTime: 0:00:06.754961\n",
      "Epoch: [1/100]\tSamples: [6936/693600]\tValidation Loss: 475.6187334423659\tTime: 0:00:00.967693\n",
      "Epoch: [2/100]\tSamples: [64728/3236400]\tTrain Loss: 498.16704939805805\tTime: 0:00:06.121739\n",
      "Epoch: [2/100]\tSamples: [6936/693600]\tValidation Loss: 472.07170610086865\tTime: 0:00:00.974835\n",
      "Epoch: [3/100]\tSamples: [97092/3236400]\tTrain Loss: 497.87904565547365\tTime: 0:00:06.125191\n",
      "Epoch: [3/100]\tSamples: [6936/693600]\tValidation Loss: 472.5453841089515\tTime: 0:00:00.969036\n",
      "Epoch: [4/100]\tSamples: [129456/3236400]\tTrain Loss: 496.96042073416834\tTime: 0:00:05.860138\n",
      "Epoch: [4/100]\tSamples: [6936/693600]\tValidation Loss: 470.3990854441501\tTime: 0:00:00.974212\n",
      "Epoch: [5/100]\tSamples: [161820/3236400]\tTrain Loss: 496.1814959088416\tTime: 0:00:06.062140\n",
      "Epoch: [5/100]\tSamples: [6936/693600]\tValidation Loss: 470.71674280925606\tTime: 0:00:00.967911\n",
      "Epoch: [6/100]\tSamples: [194184/3236400]\tTrain Loss: 495.9055454290454\tTime: 0:00:06.058402\n",
      "Epoch: [6/100]\tSamples: [6936/693600]\tValidation Loss: 470.04757560193195\tTime: 0:00:00.974879\n",
      "Epoch: [7/100]\tSamples: [226548/3236400]\tTrain Loss: 496.03970183402083\tTime: 0:00:06.149889\n",
      "Epoch: [7/100]\tSamples: [6936/693600]\tValidation Loss: 469.0138390000991\tTime: 0:00:01.007154\n",
      "Epoch: [8/100]\tSamples: [258912/3236400]\tTrain Loss: 496.19035588105226\tTime: 0:00:05.954944\n",
      "Epoch: [8/100]\tSamples: [6936/693600]\tValidation Loss: 470.2057142422686\tTime: 0:00:00.987936\n",
      "Epoch: [9/100]\tSamples: [291276/3236400]\tTrain Loss: 495.9105065137962\tTime: 0:00:06.096153\n",
      "Epoch: [9/100]\tSamples: [6936/693600]\tValidation Loss: 470.4477361659278\tTime: 0:00:00.995507\n",
      "Epoch: [10/100]\tSamples: [323640/3236400]\tTrain Loss: 495.29619016306697\tTime: 0:00:06.007057\n",
      "Epoch: [10/100]\tSamples: [6936/693600]\tValidation Loss: 469.3953235102635\tTime: 0:00:00.985192\n",
      "Epoch: [11/100]\tSamples: [356004/3236400]\tTrain Loss: 495.9690142065644\tTime: 0:00:06.168556\n",
      "Epoch: [11/100]\tSamples: [6936/693600]\tValidation Loss: 468.21151377888015\tTime: 0:00:00.975778\n",
      "Epoch: [12/100]\tSamples: [388368/3236400]\tTrain Loss: 495.75030216589033\tTime: 0:00:05.912310\n",
      "Epoch: [12/100]\tSamples: [6936/693600]\tValidation Loss: 467.8950416362547\tTime: 0:00:00.981688\n",
      "Epoch: [13/100]\tSamples: [420732/3236400]\tTrain Loss: 496.35328925706415\tTime: 0:00:06.017389\n",
      "Epoch: [13/100]\tSamples: [6936/693600]\tValidation Loss: 469.26789153735945\tTime: 0:00:00.966383\n",
      "Epoch: [14/100]\tSamples: [453096/3236400]\tTrain Loss: 496.1332309578158\tTime: 0:00:06.371076\n",
      "Epoch: [14/100]\tSamples: [6936/693600]\tValidation Loss: 469.7879983622585\tTime: 0:00:01.035762\n",
      "Epoch: [15/100]\tSamples: [485460/3236400]\tTrain Loss: 494.8101950421379\tTime: 0:00:06.107534\n",
      "Epoch: [15/100]\tSamples: [6936/693600]\tValidation Loss: 467.912511770563\tTime: 0:00:00.959997\n",
      "Epoch: [16/100]\tSamples: [517824/3236400]\tTrain Loss: 495.3039335034684\tTime: 0:00:06.068883\n",
      "Epoch: [16/100]\tSamples: [6936/693600]\tValidation Loss: 468.3573019166306\tTime: 0:00:00.974976\n",
      "Epoch: [17/100]\tSamples: [550188/3236400]\tTrain Loss: 495.5849632910989\tTime: 0:00:06.011110\n",
      "Epoch: [17/100]\tSamples: [6936/693600]\tValidation Loss: 470.04116796649726\tTime: 0:00:00.980672\n",
      "Early stopping\n"
     ]
    }
   ],
   "source": [
    "model_dict = {}\n",
    "for model in model_list:\n",
    "    # Train the model using default partitioning choice\n",
    "    output = model.train_model(dataset)\n",
    "    model_dict[model]=output\n",
    "    #print(*list(output.keys()), sep=\"\\n\") # Print the output identifiers"
   ]
  },
  {
   "cell_type": "code",
   "execution_count": 12,
   "id": "e7c69c19-b2ab-4ba1-9dd0-d5971f659a57",
   "metadata": {},
   "outputs": [
    {
     "name": "stdout",
     "output_type": "stream",
     "text": [
      "flowers ale colourless unusual ner february its ditch showy ulcer\n",
      "des bitterish druggist spangle hinder news ignorance confound par belt\n",
      "call they people thick shrub taste away yellow green aromatic\n",
      "fragrant flower perfume leave smell man like white long scent\n",
      "indifferent handful genus semi robert inhabit upon sicken vividly perch\n",
      "fetid etc olfactory citron record valuable bathe petiole public introduce\n",
      "glabrous reek eafily pubescent vanilla diftance tubular swamp divinity enlarge\n",
      "non background moan permanent resist decompose sixteen purgative succulent model\n",
      "herbaceous expanse chaste grieve pensive chemical coriaceous cheap relic gallant\n",
      "climbing pedicel deliciously cart expense spotless specific brilliantly java puff\n"
     ]
    }
   ],
   "source": [
    "for model in model_dict.keys():\n",
    "    for t in model_dict[model]['topics']:\n",
    "        print(\" \".join(t))"
   ]
  },
  {
   "cell_type": "code",
   "execution_count": 13,
   "id": "25d15343-a4fe-45c9-b622-394188c2df42",
   "metadata": {},
   "outputs": [
    {
     "data": {
      "text/plain": [
       "{<octis.models.NeuralLDA.NeuralLDA at 0x14bfaed39ab0>: {'topics': [['flowers',\n",
       "    'ale',\n",
       "    'colourless',\n",
       "    'unusual',\n",
       "    'ner',\n",
       "    'february',\n",
       "    'its',\n",
       "    'ditch',\n",
       "    'showy',\n",
       "    'ulcer'],\n",
       "   ['des',\n",
       "    'bitterish',\n",
       "    'druggist',\n",
       "    'spangle',\n",
       "    'hinder',\n",
       "    'news',\n",
       "    'ignorance',\n",
       "    'confound',\n",
       "    'par',\n",
       "    'belt'],\n",
       "   ['call',\n",
       "    'they',\n",
       "    'people',\n",
       "    'thick',\n",
       "    'shrub',\n",
       "    'taste',\n",
       "    'away',\n",
       "    'yellow',\n",
       "    'green',\n",
       "    'aromatic'],\n",
       "   ['fragrant',\n",
       "    'flower',\n",
       "    'perfume',\n",
       "    'leave',\n",
       "    'smell',\n",
       "    'man',\n",
       "    'like',\n",
       "    'white',\n",
       "    'long',\n",
       "    'scent'],\n",
       "   ['indifferent',\n",
       "    'handful',\n",
       "    'genus',\n",
       "    'semi',\n",
       "    'robert',\n",
       "    'inhabit',\n",
       "    'upon',\n",
       "    'sicken',\n",
       "    'vividly',\n",
       "    'perch'],\n",
       "   ['fetid',\n",
       "    'etc',\n",
       "    'olfactory',\n",
       "    'citron',\n",
       "    'record',\n",
       "    'valuable',\n",
       "    'bathe',\n",
       "    'petiole',\n",
       "    'public',\n",
       "    'introduce'],\n",
       "   ['glabrous',\n",
       "    'reek',\n",
       "    'eafily',\n",
       "    'pubescent',\n",
       "    'vanilla',\n",
       "    'diftance',\n",
       "    'tubular',\n",
       "    'swamp',\n",
       "    'divinity',\n",
       "    'enlarge'],\n",
       "   ['non',\n",
       "    'background',\n",
       "    'moan',\n",
       "    'permanent',\n",
       "    'resist',\n",
       "    'decompose',\n",
       "    'sixteen',\n",
       "    'purgative',\n",
       "    'succulent',\n",
       "    'model'],\n",
       "   ['herbaceous',\n",
       "    'expanse',\n",
       "    'chaste',\n",
       "    'grieve',\n",
       "    'pensive',\n",
       "    'chemical',\n",
       "    'coriaceous',\n",
       "    'cheap',\n",
       "    'relic',\n",
       "    'gallant'],\n",
       "   ['climbing',\n",
       "    'pedicel',\n",
       "    'deliciously',\n",
       "    'cart',\n",
       "    'expense',\n",
       "    'spotless',\n",
       "    'specific',\n",
       "    'brilliantly',\n",
       "    'java',\n",
       "    'puff']],\n",
       "  'topic-document-matrix': array([[0.08421096, 0.1367427 , 0.3170275 , ..., 0.03620538, 0.06863585,\n",
       "          0.06852792],\n",
       "         [0.05441156, 0.14833961, 0.0521612 , ..., 0.1060576 , 0.06620033,\n",
       "          0.05306097],\n",
       "         [0.20520407, 0.01438638, 0.0113955 , ..., 0.13683342, 0.17822314,\n",
       "          0.10895373],\n",
       "         ...,\n",
       "         [0.05025279, 0.19805913, 0.10891427, ..., 0.0665734 , 0.07465915,\n",
       "          0.09159729],\n",
       "         [0.0972642 , 0.06354944, 0.09625987, ..., 0.07864317, 0.12223955,\n",
       "          0.06608038],\n",
       "         [0.05859998, 0.23185723, 0.0897144 , ..., 0.11408398, 0.06041418,\n",
       "          0.07571072]]),\n",
       "  'topic-word-matrix': array([[8.5244028e-06, 8.9871683e-06, 8.4468875e-06, ..., 8.9563582e-06,\n",
       "          9.0150552e-06, 8.7596800e-06],\n",
       "         [9.1093525e-06, 9.0429312e-06, 1.0120554e-05, ..., 9.1615684e-06,\n",
       "          9.0141075e-06, 8.6993750e-06],\n",
       "         [5.4036864e-06, 5.8739729e-06, 5.5398191e-06, ..., 5.8454020e-06,\n",
       "          6.4762767e-06, 5.6010490e-06],\n",
       "         ...,\n",
       "         [8.4002304e-06, 8.7633689e-06, 8.5691645e-06, ..., 8.4401472e-06,\n",
       "          8.8322686e-06, 8.8003235e-06],\n",
       "         [8.4245512e-06, 8.4788117e-06, 9.3543385e-06, ..., 9.1192769e-06,\n",
       "          8.9324612e-06, 9.0671992e-06],\n",
       "         [9.6770691e-06, 8.8370662e-06, 8.6079935e-06, ..., 8.7350863e-06,\n",
       "          9.0010926e-06, 8.7415756e-06]], dtype=float32),\n",
       "  'test-topic-document-matrix': array([[0.06797177, 0.05210556, 0.05596963, ..., 0.04346681, 0.08110105,\n",
       "          0.09203641],\n",
       "         [0.05005298, 0.03931584, 0.05339742, ..., 0.05584089, 0.0791123 ,\n",
       "          0.10571466],\n",
       "         [0.16698123, 0.22011056, 0.27483604, ..., 0.20086471, 0.20319931,\n",
       "          0.10492109],\n",
       "         ...,\n",
       "         [0.11215286, 0.09356532, 0.03017881, ..., 0.05379859, 0.04175375,\n",
       "          0.07190623],\n",
       "         [0.06350085, 0.03216685, 0.09305988, ..., 0.06624994, 0.08589709,\n",
       "          0.07720669],\n",
       "         [0.08957529, 0.04737363, 0.12415144, ..., 0.06052616, 0.11469535,\n",
       "          0.04847418]])}}"
      ]
     },
     "execution_count": 13,
     "metadata": {},
     "output_type": "execute_result"
    }
   ],
   "source": [
    "model_dict"
   ]
  },
  {
   "cell_type": "code",
   "execution_count": 14,
   "id": "ca531864-5e85-4efb-9755-9e8924ea89dc",
   "metadata": {},
   "outputs": [],
   "source": [
    "# Initialize metric\n",
    "coherence = Coherence(texts=dataset.get_corpus(), measure = 'c_npmi')\n",
    "diversity = TopicDiversity(topk=10)"
   ]
  },
  {
   "cell_type": "code",
   "execution_count": 15,
   "id": "2968be47-dfeb-45b9-8d90-202890d85c3e",
   "metadata": {},
   "outputs": [
    {
     "data": {
      "text/plain": [
       "dict_keys([<octis.models.NeuralLDA.NeuralLDA object at 0x14bfaed39ab0>])"
      ]
     },
     "execution_count": 15,
     "metadata": {},
     "output_type": "execute_result"
    }
   ],
   "source": [
    "model_dict.keys()"
   ]
  },
  {
   "cell_type": "code",
   "execution_count": 16,
   "id": "c1a35851-d8d9-4a24-8037-8b75c918ec38",
   "metadata": {},
   "outputs": [
    {
     "name": "stdout",
     "output_type": "stream",
     "text": [
      "Used model: <octis.models.NeuralLDA.NeuralLDA object at 0x14bfaed39ab0>\n",
      "Topic diversity: 1.0\n",
      "Coherence: -0.3024270202896217\n"
     ]
    }
   ],
   "source": [
    "# Retrieve metrics score\n",
    "for model in model_dict.keys():\n",
    "    output = model_dict[model]\n",
    "    diversity_score = diversity.score(output)\n",
    "    print(\"Used model: \"+str(model))\n",
    "    print(\"Topic diversity: \"+str(diversity_score))\n",
    "\n",
    "    coherence_score = coherence.score(output)\n",
    "    print(\"Coherence: \"+str(coherence_score))"
   ]
  },
  {
   "cell_type": "code",
   "execution_count": null,
   "id": "89a72059-d503-4359-b47b-ea536c55f92b",
   "metadata": {},
   "outputs": [],
   "source": []
  },
  {
   "cell_type": "code",
   "execution_count": null,
   "id": "c0cd7690-98ec-452e-a555-e2ed563ba00f",
   "metadata": {},
   "outputs": [],
   "source": []
  },
  {
   "cell_type": "code",
   "execution_count": null,
   "id": "ec0c3bcf-fa2b-45f0-b104-278a9f649d24",
   "metadata": {},
   "outputs": [],
   "source": []
  }
 ],
 "metadata": {
  "kernelspec": {
   "display_name": "Python 3 (ipykernel)",
   "language": "python",
   "name": "python3"
  },
  "language_info": {
   "codemirror_mode": {
    "name": "ipython",
    "version": 3
   },
   "file_extension": ".py",
   "mimetype": "text/x-python",
   "name": "python",
   "nbconvert_exporter": "python",
   "pygments_lexer": "ipython3",
   "version": "3.10.4"
  }
 },
 "nbformat": 4,
 "nbformat_minor": 5
}
