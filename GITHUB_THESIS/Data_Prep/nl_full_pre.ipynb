{
 "cells": [
  {
   "cell_type": "code",
   "execution_count": 26,
   "id": "cd7db24e-4ba5-4b1a-bcec-c5d16a4f6ec5",
   "metadata": {},
   "outputs": [],
   "source": [
    "import pandas as pd\n",
    "import ipywidgets as widgets\n",
    "import math\n",
    "import os\n",
    "import pandas as pd\n",
    "import numpy as np\n",
    "import matplotlib.pyplot as plt\n",
    "df = pd.read_csv('Dataset_nl.tsv', sep='\\t')"
   ]
  },
  {
   "cell_type": "code",
   "execution_count": 27,
   "id": "d9190eb5-ede9-4380-833d-b21899da1287",
   "metadata": {},
   "outputs": [],
   "source": [
    "#filter appropriate years\n",
    "df = df[(df['year'] >= 1590) & (df['year'] <= 1980)]"
   ]
  },
  {
   "cell_type": "code",
   "execution_count": 28,
   "id": "a542ca46-9d20-49df-9ae1-fb45bdac6a32",
   "metadata": {},
   "outputs": [
    {
     "name": "stdout",
     "output_type": "stream",
     "text": [
      "1\n",
      "2\n",
      "3\n",
      "4\n"
     ]
    },
    {
     "data": {
      "text/html": [
       "<div>\n",
       "<style scoped>\n",
       "    .dataframe tbody tr th:only-of-type {\n",
       "        vertical-align: middle;\n",
       "    }\n",
       "\n",
       "    .dataframe tbody tr th {\n",
       "        vertical-align: top;\n",
       "    }\n",
       "\n",
       "    .dataframe thead th {\n",
       "        text-align: right;\n",
       "    }\n",
       "</style>\n",
       "<table border=\"1\" class=\"dataframe\">\n",
       "  <thead>\n",
       "    <tr style=\"text-align: right;\">\n",
       "      <th></th>\n",
       "      <th>Unnamed: 0</th>\n",
       "      <th>Lang</th>\n",
       "      <th>year</th>\n",
       "      <th>Smell_Source_lemma</th>\n",
       "      <th>Quality_lemma</th>\n",
       "      <th>Sentence_lemma</th>\n",
       "      <th>Corpus</th>\n",
       "      <th>Smell_Source</th>\n",
       "      <th>Quality</th>\n",
       "      <th>Sentence</th>\n",
       "      <th>source_list</th>\n",
       "    </tr>\n",
       "  </thead>\n",
       "  <tbody>\n",
       "    <tr>\n",
       "      <th>0</th>\n",
       "      <td>1</td>\n",
       "      <td>nl</td>\n",
       "      <td>1910</td>\n",
       "      <td>zee | lindendreven</td>\n",
       "      <td>NaN</td>\n",
       "      <td>hart stijgen streelen zang zuiverst godsvrucht...</td>\n",
       "      <td>dbnl</td>\n",
       "      <td>Zee|lindendreven</td>\n",
       "      <td>NaN</td>\n",
       "      <td>In dat hart stegen en streelden de zangen der ...</td>\n",
       "      <td>[zee, lindendreven]</td>\n",
       "    </tr>\n",
       "    <tr>\n",
       "      <th>1</th>\n",
       "      <td>2</td>\n",
       "      <td>nl</td>\n",
       "      <td>1751</td>\n",
       "      <td>reukwerk</td>\n",
       "      <td>NaN</td>\n",
       "      <td>paradys vol zielsgenucht brengen zyn hemelzeg ...</td>\n",
       "      <td>dbnl</td>\n",
       "      <td>Reukwerk</td>\n",
       "      <td>NaN</td>\n",
       "      <td>Een Paradys vol zielsgenuchten Brengt u zyn He...</td>\n",
       "      <td>[reukwerk]</td>\n",
       "    </tr>\n",
       "    <tr>\n",
       "      <th>2</th>\n",
       "      <td>3</td>\n",
       "      <td>nl</td>\n",
       "      <td>1636</td>\n",
       "      <td>maer erbarmigh schepssel</td>\n",
       "      <td>NaN</td>\n",
       "      <td>ghedierten zoo haest gheworp , uyt haer schaee...</td>\n",
       "      <td>dbnl</td>\n",
       "      <td>Maer dit erbarmigh schepssel</td>\n",
       "      <td>NaN</td>\n",
       "      <td>Andere ghedierten en zijn zoo haest niet ghewo...</td>\n",
       "      <td>[maer erbarmigh schepssel]</td>\n",
       "    </tr>\n",
       "    <tr>\n",
       "      <th>3</th>\n",
       "      <td>4</td>\n",
       "      <td>nl</td>\n",
       "      <td>1869</td>\n",
       "      <td>kersboom</td>\n",
       "      <td>NaN</td>\n",
       "      <td>zien ginds weder jeugdig paar : plukken zoo gr...</td>\n",
       "      <td>dbnl</td>\n",
       "      <td>kersboom</td>\n",
       "      <td>NaN</td>\n",
       "      <td>Ziet ginds weder het jeugdige paar : hoe plukt...</td>\n",
       "      <td>[kersboom]</td>\n",
       "    </tr>\n",
       "    <tr>\n",
       "      <th>4</th>\n",
       "      <td>5</td>\n",
       "      <td>nl</td>\n",
       "      <td>1838</td>\n",
       "      <td>kroost</td>\n",
       "      <td>NaN</td>\n",
       "      <td>neen gy wraekt traan , neen , ' t vaderwee tro...</td>\n",
       "      <td>dbnl</td>\n",
       "      <td>kroost</td>\n",
       "      <td>NaN</td>\n",
       "      <td>Neen gy wraekt geen tranen , neen , ' t Vaderw...</td>\n",
       "      <td>[kroost]</td>\n",
       "    </tr>\n",
       "  </tbody>\n",
       "</table>\n",
       "</div>"
      ],
      "text/plain": [
       "   Unnamed: 0 Lang  year        Smell_Source_lemma Quality_lemma  \\\n",
       "0           1   nl  1910        zee | lindendreven           NaN   \n",
       "1           2   nl  1751                  reukwerk           NaN   \n",
       "2           3   nl  1636  maer erbarmigh schepssel           NaN   \n",
       "3           4   nl  1869                  kersboom           NaN   \n",
       "4           5   nl  1838                    kroost           NaN   \n",
       "\n",
       "                                      Sentence_lemma Corpus  \\\n",
       "0  hart stijgen streelen zang zuiverst godsvrucht...   dbnl   \n",
       "1  paradys vol zielsgenucht brengen zyn hemelzeg ...   dbnl   \n",
       "2  ghedierten zoo haest gheworp , uyt haer schaee...   dbnl   \n",
       "3  zien ginds weder jeugdig paar : plukken zoo gr...   dbnl   \n",
       "4  neen gy wraekt traan , neen , ' t vaderwee tro...   dbnl   \n",
       "\n",
       "                   Smell_Source Quality  \\\n",
       "0              Zee|lindendreven     NaN   \n",
       "1                      Reukwerk     NaN   \n",
       "2  Maer dit erbarmigh schepssel     NaN   \n",
       "3                      kersboom     NaN   \n",
       "4                        kroost     NaN   \n",
       "\n",
       "                                            Sentence  \\\n",
       "0  In dat hart stegen en streelden de zangen der ...   \n",
       "1  Een Paradys vol zielsgenuchten Brengt u zyn He...   \n",
       "2  Andere ghedierten en zijn zoo haest niet ghewo...   \n",
       "3  Ziet ginds weder het jeugdige paar : hoe plukt...   \n",
       "4  Neen gy wraekt geen tranen , neen , ' t Vaderw...   \n",
       "\n",
       "                  source_list  \n",
       "0         [zee, lindendreven]  \n",
       "1                  [reukwerk]  \n",
       "2  [maer erbarmigh schepssel]  \n",
       "3                  [kersboom]  \n",
       "4                    [kroost]  "
      ]
     },
     "execution_count": 28,
     "metadata": {},
     "output_type": "execute_result"
    }
   ],
   "source": [
    "#make the smell source lemma column a list of strings\n",
    "df['source_list'] = df['Smell_Source_lemma'].str.split('|')\n",
    "print(1)\n",
    "df = df[df['source_list'].apply(lambda x: isinstance(x, list))]\n",
    "print(2)\n",
    "df = df[df['source_list'].apply(lambda x: all(isinstance(word, str) for word in x))]\n",
    "print(3)\n",
    "df['source_list'] = df['source_list'].apply(lambda x: [word.strip() for word in x])\n",
    "print(4)\n",
    "df.head()"
   ]
  },
  {
   "cell_type": "code",
   "execution_count": 29,
   "id": "207c628b-7498-48ac-9816-73b7a9f467fc",
   "metadata": {},
   "outputs": [],
   "source": [
    "def preprocess_text(sentence):\n",
    "    # Remove numbers, abbreviations, and unknown/special characters\n",
    "    # Removes numbers\n",
    "    sentence = re.sub(r'\\d+', '', sentence)\n",
    "    # Removes single characters and special characters\n",
    "    sentence = re.sub(r'\\W', ' ', sentence)\n",
    "    # Removes single characters from the start\n",
    "    sentence = re.sub(r'\\^[a-zA-Z]\\s+', ' ', sentence) \n",
    "    # Substitutes multiple spaces with single space\n",
    "    sentence = re.sub(r'\\s+', ' ', sentence, flags=re.I)\n",
    "    # Removes prefixed 'b'\n",
    "    sentence = re.sub(r'^b\\s+', '', sentence)\n",
    "    # Converts to lower case\n",
    "    sentence = sentence.lower()\n",
    "\n",
    "    # Tokenization\n",
    "    #tokens = word_tokenize(sentence)\n",
    "\n",
    "    # Remove stopwords, and perform stemming and lemmatization\n",
    "    #stemmer = PorterStemmer()\n",
    "    #lemmatizer = WordNetLemmatizer()\n",
    "    #stopwords_list = set(stopwords.words('english'))\n",
    "    #processed_tokens = [word for word in tokens if word not in stopwords_list and len(word) > 1]\n",
    "    \n",
    "    return sentence\n"
   ]
  },
  {
   "cell_type": "code",
   "execution_count": 30,
   "id": "26538318-38bc-4971-bde3-ab78ff7f2ae6",
   "metadata": {},
   "outputs": [],
   "source": [
    "import re\n",
    "df['pre_text'] = df['Sentence'].apply(preprocess_text)"
   ]
  },
  {
   "cell_type": "code",
   "execution_count": 31,
   "id": "cd473a66-77ad-4ece-95f4-66eb98c6b291",
   "metadata": {},
   "outputs": [
    {
     "name": "stdout",
     "output_type": "stream",
     "text": [
      "Column 'Quality_lemma' has 13154 NaN value(s).\n",
      "Column 'Quality' has 13074 NaN value(s).\n"
     ]
    }
   ],
   "source": [
    "import pandas as pd\n",
    "\n",
    "# Assuming df is your DataFrame\n",
    "# Replace this with your DataFrame if it's named differently\n",
    "# df = ...\n",
    "\n",
    "# Check for NaN values in every column\n",
    "nan_values = df.isna().sum()\n",
    "\n",
    "# Print columns with NaN values and their corresponding counts\n",
    "for column, count in nan_values.items():\n",
    "    if count > 0:\n",
    "        print(f\"Column '{column}' has {count} NaN value(s).\")"
   ]
  },
  {
   "cell_type": "code",
   "execution_count": 32,
   "id": "95fed43c-75be-471f-a32f-199fab9beae4",
   "metadata": {},
   "outputs": [],
   "source": [
    "df = df[['pre_text', 'Sentence', 'year', 'Smell_Source', 'source_list']]"
   ]
  },
  {
   "cell_type": "code",
   "execution_count": 33,
   "id": "327f3f36-dcf7-4bf8-91a7-03f8196cb62e",
   "metadata": {},
   "outputs": [],
   "source": []
  },
  {
   "cell_type": "code",
   "execution_count": 34,
   "id": "437788b8-bcd4-403d-820b-89219b2aad2d",
   "metadata": {},
   "outputs": [
    {
     "name": "stdout",
     "output_type": "stream",
     "text": [
      "Types of all columns:\n",
      "pre_text        object\n",
      "Sentence        object\n",
      "year             int64\n",
      "Smell_Source    object\n",
      "source_list     object\n",
      "dtype: object\n"
     ]
    }
   ],
   "source": [
    "column_types = df.dtypes\n",
    "\n",
    "# Print the types of all columns\n",
    "print(\"Types of all columns:\")\n",
    "print(column_types)"
   ]
  },
  {
   "cell_type": "code",
   "execution_count": 38,
   "id": "10701c8b-cd8f-4362-b951-79f29f9df722",
   "metadata": {},
   "outputs": [
    {
     "name": "stdout",
     "output_type": "stream",
     "text": [
      "Types of all columns after conversion:\n",
      "pre_text        string\n",
      "Sentence        string\n",
      "year             int64\n",
      "Smell_Source    string\n",
      "source_list     string\n",
      "dtype: object\n"
     ]
    }
   ],
   "source": [
    "# Convert columns to string type\n",
    "df['pre_text'] = df['pre_text'].astype('string')\n",
    "df['Sentence'] = df['Sentence'].astype('string')\n",
    "df['Smell_Source'] = df['Smell_Source'].astype('string')\n",
    "df['source_list'] = df['source_list'].astype('string')\n",
    "\n",
    "# Verify the types of all columns\n",
    "column_types = df.dtypes\n",
    "print(\"Types of all columns after conversion:\")\n",
    "print(column_types)"
   ]
  },
  {
   "cell_type": "code",
   "execution_count": 39,
   "id": "4186a7b9-cf70-4952-9cec-db586a299e61",
   "metadata": {},
   "outputs": [],
   "source": [
    "df.to_csv('nl_str_by_pat.csv')"
   ]
  },
  {
   "cell_type": "code",
   "execution_count": null,
   "id": "c3e6b184-0e00-4306-851f-63142752cd30",
   "metadata": {},
   "outputs": [],
   "source": []
  }
 ],
 "metadata": {
  "kernelspec": {
   "display_name": "Python 3 (ipykernel)",
   "language": "python",
   "name": "python3"
  },
  "language_info": {
   "codemirror_mode": {
    "name": "ipython",
    "version": 3
   },
   "file_extension": ".py",
   "mimetype": "text/x-python",
   "name": "python",
   "nbconvert_exporter": "python",
   "pygments_lexer": "ipython3",
   "version": "3.10.4"
  }
 },
 "nbformat": 4,
 "nbformat_minor": 5
}
