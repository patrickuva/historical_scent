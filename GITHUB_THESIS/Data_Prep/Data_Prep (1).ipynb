{
 "cells": [
  {
   "cell_type": "code",
   "execution_count": 1,
   "id": "14fd6ba5-c648-46dc-93c6-6bf1c036ac21",
   "metadata": {},
   "outputs": [
    {
     "name": "stderr",
     "output_type": "stream",
     "text": [
      "/sw/arch/RHEL8/EB_production/2022/software/Python/3.10.4-GCCcore-11.3.0/lib/python3.10/site-packages/paramiko/transport.py:236: CryptographyDeprecationWarning: Blowfish has been deprecated\n",
      "  \"class\": algorithms.Blowfish,\n"
     ]
    }
   ],
   "source": [
    "#imports\n",
    "import pandas as pd\n",
    "import pandas as pd\n",
    "import ipywidgets as widgets\n",
    "import math\n",
    "import os\n",
    "import pandas as pd\n",
    "import numpy as np\n",
    "import matplotlib.pyplot as plt\n",
    "from datasets import load_dataset\n",
    "#!pip install bertopic datasets accelerate bitsandbytes xformers adjustText\n",
    "import pandas as pd\n",
    "# imports\n",
    "from octis.models.CTM import CTM\n",
    "from octis.dataset.dataset import Dataset\n",
    "from octis.optimization.optimizer import Optimizer\n",
    "from skopt.space.space import Real, Categorical, Integer\n",
    "from octis.evaluation_metrics.coherence_metrics import Coherence\n",
    "from octis.dataset.dataset import Dataset\n",
    "from skopt.space.space import Real, Categorical, Integer\n",
    "from octis.evaluation_metrics.coherence_metrics import Coherence\n",
    "from octis.evaluation_metrics.diversity_metrics import TopicDiversity\n",
    "from octis.optimization.optimizer import Optimizer\n",
    "optimizer=Optimizer()\n",
    "import time\n",
    "import en_core_web_sm\n",
    "nlp = en_core_web_sm.load()\n",
    "dataset = Dataset()"
   ]
  },
  {
   "cell_type": "markdown",
   "id": "605e5d11-6097-451e-8541-0dfc5372c245",
   "metadata": {},
   "source": [
    "## ENGLISH OLD"
   ]
  },
  {
   "cell_type": "code",
   "execution_count": 2,
   "id": "f9f5bc8d-fada-4a79-9d3d-dd01ccef7714",
   "metadata": {},
   "outputs": [
    {
     "name": "stderr",
     "output_type": "stream",
     "text": [
      "[nltk_data] Downloading package punkt to\n",
      "[nltk_data]     /home/pspaargaren/nltk_data...\n",
      "[nltk_data]   Package punkt is already up-to-date!\n"
     ]
    }
   ],
   "source": [
    "from data_flower import DataLoader"
   ]
  },
  {
   "cell_type": "code",
   "execution_count": 3,
   "id": "e363ba37-9dbc-46d7-b147-51d20c242736",
   "metadata": {},
   "outputs": [
    {
     "name": "stderr",
     "output_type": "stream",
     "text": [
      "100%|██████████| 46236/46236 [00:00<00:00, 113830.06it/s]\n"
     ]
    },
    {
     "name": "stdout",
     "output_type": "stream",
     "text": [
      "created vocab\n",
      "127126\n",
      "words filtering done\n"
     ]
    }
   ],
   "source": [
    "#Normal Loader\n",
    "dataloader = DataLoader(dataset=\"EN\").prepare_docs(save=\"EN.txt\").preprocess_octis(output_folder=\"EN\")"
   ]
  },
  {
   "cell_type": "code",
   "execution_count": 4,
   "id": "b83c9a0d-d8e0-4358-aa30-3d03d76b69c5",
   "metadata": {},
   "outputs": [
    {
     "name": "stderr",
     "output_type": "stream",
     "text": [
      "100%|██████████| 46236/46236 [00:00<00:00, 115857.36it/s]\n"
     ]
    },
    {
     "name": "stdout",
     "output_type": "stream",
     "text": [
      "created vocab\n",
      "127126\n",
      "words filtering done\n"
     ]
    }
   ],
   "source": [
    "#DTM Loader\n",
    "dataloader = DataLoader(dataset=\"EN_dtm\").prepare_docs(save=\"EN_dtm.txt\").preprocess_octis(output_folder=\"EN_dtm\")"
   ]
  },
  {
   "cell_type": "markdown",
   "id": "ba035afe-4372-4bfb-9df7-34215cc2caaf",
   "metadata": {},
   "source": [
    "## ENGLISH NEW"
   ]
  },
  {
   "cell_type": "code",
   "execution_count": 1,
   "id": "283d59cb-a460-430b-871b-67f207751858",
   "metadata": {},
   "outputs": [
    {
     "name": "stderr",
     "output_type": "stream",
     "text": [
      "[nltk_data] Downloading package punkt to\n",
      "[nltk_data]     /home/pspaargaren/nltk_data...\n",
      "[nltk_data]   Package punkt is already up-to-date!\n"
     ]
    }
   ],
   "source": [
    "from data_t_flower import DataLoader"
   ]
  },
  {
   "cell_type": "code",
   "execution_count": 2,
   "id": "51794216-4f25-4552-a078-2a88f376d7f6",
   "metadata": {},
   "outputs": [
    {
     "name": "stderr",
     "output_type": "stream",
     "text": [
      "100%|██████████| 10000/10000 [00:00<00:00, 133124.62it/s]\n"
     ]
    },
    {
     "name": "stdout",
     "output_type": "stream",
     "text": [
      "created vocab\n",
      "32792\n",
      "words filtering done\n"
     ]
    }
   ],
   "source": [
    "#Normal Loader\n",
    "dataloader = DataLoader(dataset=\"EN\").prepare_docs(save=\"EN.txt\").preprocess_octis(output_folder=\"EN\")"
   ]
  },
  {
   "cell_type": "code",
   "execution_count": 3,
   "id": "ebfd3a9c-c250-4355-bf02-6f6635a4a589",
   "metadata": {},
   "outputs": [
    {
     "name": "stderr",
     "output_type": "stream",
     "text": [
      "100%|██████████| 10000/10000 [00:00<00:00, 132506.38it/s]\n"
     ]
    },
    {
     "name": "stdout",
     "output_type": "stream",
     "text": [
      "created vocab\n",
      "32792\n",
      "words filtering done\n"
     ]
    }
   ],
   "source": [
    "#DTM Loader\n",
    "dataloader = DataLoader(dataset=\"EN_dtm\").prepare_docs(save=\"EN_dtm.txt\").preprocess_octis(output_folder=\"EN_dtm\")"
   ]
  },
  {
   "cell_type": "markdown",
   "id": "83c5bf34-bd47-4fd5-a200-9cd1e6331a86",
   "metadata": {},
   "source": [
    "## DUTCH OLD"
   ]
  },
  {
   "cell_type": "code",
   "execution_count": 2,
   "id": "fcbe362b-2f19-4ac6-8555-b859fe42636d",
   "metadata": {},
   "outputs": [
    {
     "name": "stderr",
     "output_type": "stream",
     "text": [
      "[nltk_data] Downloading package punkt to\n",
      "[nltk_data]     /home/pspaargaren/nltk_data...\n",
      "[nltk_data]   Package punkt is already up-to-date!\n"
     ]
    }
   ],
   "source": [
    "from data_NL import DataLoader"
   ]
  },
  {
   "cell_type": "code",
   "execution_count": 3,
   "id": "91daaa20-76f9-4bc9-8787-742947808937",
   "metadata": {},
   "outputs": [
    {
     "name": "stderr",
     "output_type": "stream",
     "text": [
      "100%|██████████| 19058/19058 [00:00<00:00, 101178.48it/s]\n"
     ]
    },
    {
     "name": "stdout",
     "output_type": "stream",
     "text": [
      "created vocab\n",
      "148562\n",
      "words filtering done\n"
     ]
    }
   ],
   "source": [
    "#Normal Loader\n",
    "dataloader = DataLoader(dataset=\"NL\").prepare_docs(save=\"NL.txt\").preprocess_octis(output_folder=\"NL\")"
   ]
  },
  {
   "cell_type": "code",
   "execution_count": 4,
   "id": "9b4a8957-e916-4209-afa3-32576c25a543",
   "metadata": {},
   "outputs": [
    {
     "name": "stderr",
     "output_type": "stream",
     "text": [
      "100%|██████████| 19058/19058 [00:00<00:00, 101344.60it/s]\n"
     ]
    },
    {
     "name": "stdout",
     "output_type": "stream",
     "text": [
      "created vocab\n",
      "148562\n",
      "words filtering done\n"
     ]
    }
   ],
   "source": [
    "#DTM Loader\n",
    "dataloader = DataLoader(dataset=\"NL_dtm\").prepare_docs(save=\"NL_dtm.txt\").preprocess_octis(output_folder=\"NL_dtm\")"
   ]
  },
  {
   "cell_type": "markdown",
   "id": "e60f6ebc-fd3c-42c3-924b-a75ce647856a",
   "metadata": {},
   "source": [
    "## DUTCH NEW"
   ]
  },
  {
   "cell_type": "code",
   "execution_count": 2,
   "id": "7bae2d11-aca5-43ed-9e69-5ed66746164f",
   "metadata": {},
   "outputs": [
    {
     "name": "stderr",
     "output_type": "stream",
     "text": [
      "[nltk_data] Downloading package punkt to\n",
      "[nltk_data]     /home/pspaargaren/nltk_data...\n",
      "[nltk_data]   Package punkt is already up-to-date!\n"
     ]
    }
   ],
   "source": [
    "from data_t_NL import DataLoader"
   ]
  },
  {
   "cell_type": "code",
   "execution_count": 3,
   "id": "426e4147-ef33-4aea-adb4-782eeb15d142",
   "metadata": {},
   "outputs": [
    {
     "name": "stderr",
     "output_type": "stream",
     "text": [
      "100%|██████████| 9997/9997 [00:00<00:00, 106969.27it/s]\n"
     ]
    },
    {
     "name": "stdout",
     "output_type": "stream",
     "text": [
      "created vocab\n",
      "56443\n",
      "words filtering done\n"
     ]
    }
   ],
   "source": [
    "#Normal Loader\n",
    "dataloader = DataLoader(dataset=\"NL\").prepare_docs(save=\"NL.txt\").preprocess_octis(output_folder=\"NL\")"
   ]
  },
  {
   "cell_type": "code",
   "execution_count": 4,
   "id": "fa45439c-1821-4091-8114-e4f3001b1689",
   "metadata": {},
   "outputs": [
    {
     "name": "stderr",
     "output_type": "stream",
     "text": [
      "100%|██████████| 9997/9997 [00:00<00:00, 106854.78it/s]\n"
     ]
    },
    {
     "name": "stdout",
     "output_type": "stream",
     "text": [
      "created vocab\n",
      "56443\n",
      "words filtering done\n"
     ]
    }
   ],
   "source": [
    "#DTM Loader\n",
    "dataloader = DataLoader(dataset=\"NL_dtm\").prepare_docs(save=\"NL_dtm.txt\").preprocess_octis(output_folder=\"NL_dtm\")"
   ]
  },
  {
   "cell_type": "markdown",
   "id": "1f8344e8-4a75-4f55-830e-5d2970cf6875",
   "metadata": {
    "jp-MarkdownHeadingCollapsed": true,
    "tags": []
   },
   "source": [
    "# DUTCH LDA"
   ]
  },
  {
   "cell_type": "code",
   "execution_count": 3,
   "id": "b9c693b6-fbfe-4b65-b74b-2a16f27c1abb",
   "metadata": {},
   "outputs": [],
   "source": [
    "from data_NL import DataLoader"
   ]
  },
  {
   "cell_type": "code",
   "execution_count": 4,
   "id": "5379a3b0-b7ae-47e7-8d9c-19493aac3781",
   "metadata": {},
   "outputs": [
    {
     "name": "stderr",
     "output_type": "stream",
     "text": [
      "100%|██████████| 19058/19058 [00:00<00:00, 79354.96it/s]\n"
     ]
    },
    {
     "name": "stdout",
     "output_type": "stream",
     "text": [
      "created vocab\n",
      "148562\n",
      "words filtering done\n"
     ]
    }
   ],
   "source": [
    "#Normal Loader\n",
    "dataloader = DataLoader(dataset=\"NL\").prepare_docs(save=\"NL_OPT.txt\").preprocess_octis(output_folder=\"NL_OPT\")"
   ]
  },
  {
   "cell_type": "markdown",
   "id": "71cb971a-20d3-4576-aa7a-2503c66e64a4",
   "metadata": {},
   "source": [
    "# SHORT ENGLISH OLD"
   ]
  },
  {
   "cell_type": "code",
   "execution_count": 7,
   "id": "035adf4c-aa11-492b-808f-fd6cdac49ef1",
   "metadata": {},
   "outputs": [],
   "source": [
    "from t_en_h import DataLoader"
   ]
  },
  {
   "cell_type": "code",
   "execution_count": 8,
   "id": "e3f2bc31-b283-4be1-891e-5b946f365ac4",
   "metadata": {},
   "outputs": [
    {
     "name": "stderr",
     "output_type": "stream",
     "text": [
      "100%|██████████| 10000/10000 [00:00<00:00, 113429.46it/s]\n"
     ]
    },
    {
     "name": "stdout",
     "output_type": "stream",
     "text": [
      "created vocab\n",
      "56064\n",
      "words filtering done\n"
     ]
    }
   ],
   "source": [
    "dataloader = DataLoader(dataset=\"EN\").prepare_docs(save=\"H_EN.txt\").preprocess_octis(output_folder=\"H_EN_T\")"
   ]
  },
  {
   "cell_type": "code",
   "execution_count": 9,
   "id": "6d44018f-7f29-4533-88e9-3eee0c76fc84",
   "metadata": {},
   "outputs": [
    {
     "name": "stderr",
     "output_type": "stream",
     "text": [
      "100%|██████████| 10000/10000 [00:00<00:00, 113564.29it/s]\n"
     ]
    },
    {
     "name": "stdout",
     "output_type": "stream",
     "text": [
      "created vocab\n",
      "56064\n",
      "words filtering done\n"
     ]
    }
   ],
   "source": [
    "dataloader = DataLoader(dataset=\"EN_dtm\").prepare_docs(save=\"H_EN_dtm.txt\").preprocess_octis(output_folder=\"H_EN_T_dtm\")"
   ]
  },
  {
   "cell_type": "markdown",
   "id": "6c35b661-0c58-46dc-8b9a-4ed883102e68",
   "metadata": {},
   "source": [
    "# SHORT DUTCH OLD"
   ]
  },
  {
   "cell_type": "code",
   "execution_count": 4,
   "id": "64859749-1069-4ac1-b3a0-d02685df88e6",
   "metadata": {},
   "outputs": [
    {
     "name": "stderr",
     "output_type": "stream",
     "text": [
      "[nltk_data] Downloading package punkt to\n",
      "[nltk_data]     /home/pspaargaren/nltk_data...\n",
      "[nltk_data]   Package punkt is already up-to-date!\n"
     ]
    }
   ],
   "source": [
    "from t_nl_h import DataLoader"
   ]
  },
  {
   "cell_type": "code",
   "execution_count": 5,
   "id": "ef282fae-f3b6-4336-abe8-c491786762b5",
   "metadata": {},
   "outputs": [
    {
     "name": "stderr",
     "output_type": "stream",
     "text": [
      "100%|██████████| 10000/10000 [00:00<00:00, 101128.00it/s]\n"
     ]
    },
    {
     "name": "stdout",
     "output_type": "stream",
     "text": [
      "created vocab\n",
      "100784\n",
      "words filtering done\n"
     ]
    }
   ],
   "source": [
    "dataloader = DataLoader(dataset=\"NL\").prepare_docs(save=\"H_NL.txt\").preprocess_octis(output_folder=\"H_NL_T\")"
   ]
  },
  {
   "cell_type": "code",
   "execution_count": 6,
   "id": "57f09107-94b5-4a7f-8526-ec562926c883",
   "metadata": {},
   "outputs": [
    {
     "name": "stderr",
     "output_type": "stream",
     "text": [
      "100%|██████████| 10000/10000 [00:00<00:00, 102077.02it/s]\n"
     ]
    },
    {
     "name": "stdout",
     "output_type": "stream",
     "text": [
      "created vocab\n",
      "100784\n",
      "words filtering done\n"
     ]
    }
   ],
   "source": [
    "dataloader = DataLoader(dataset=\"NL_dtm\").prepare_docs(save=\"H_NL_dtm.txt\").preprocess_octis(output_folder=\"H_NL_t_dtm\")"
   ]
  },
  {
   "cell_type": "markdown",
   "id": "5161d619-eff7-44ed-a88d-97ce233ea81b",
   "metadata": {},
   "source": [
    "# TRUMP"
   ]
  },
  {
   "cell_type": "code",
   "execution_count": 8,
   "id": "9cc5340b-baa8-49f6-958e-aecbff7c92ba",
   "metadata": {},
   "outputs": [
    {
     "name": "stderr",
     "output_type": "stream",
     "text": [
      "[nltk_data] Downloading package punkt to\n",
      "[nltk_data]     /home/pspaargaren/nltk_data...\n",
      "[nltk_data]   Package punkt is already up-to-date!\n"
     ]
    }
   ],
   "source": [
    "from data_trump import DataLoader"
   ]
  },
  {
   "cell_type": "code",
   "execution_count": 9,
   "id": "44073923-f5ed-4afb-a26d-a2ebebda03a6",
   "metadata": {},
   "outputs": [
    {
     "name": "stderr",
     "output_type": "stream",
     "text": [
      "100%|██████████| 46693/46693 [00:00<00:00, 373043.80it/s]\n"
     ]
    },
    {
     "name": "stdout",
     "output_type": "stream",
     "text": [
      "created vocab\n",
      "53637\n",
      "words filtering done\n"
     ]
    }
   ],
   "source": [
    "dataloader = DataLoader(dataset=\"trump\").prepare_docs(save=\"trump.txt\").preprocess_octis(output_folder=\"trump\")"
   ]
  },
  {
   "cell_type": "code",
   "execution_count": 10,
   "id": "faeaee3d-a1e3-4301-a93c-3acd5f8d1037",
   "metadata": {},
   "outputs": [
    {
     "name": "stderr",
     "output_type": "stream",
     "text": [
      "100%|██████████| 46693/46693 [00:00<00:00, 374254.26it/s]\n"
     ]
    },
    {
     "name": "stdout",
     "output_type": "stream",
     "text": [
      "created vocab\n",
      "53637\n",
      "words filtering done\n"
     ]
    }
   ],
   "source": [
    "dataloader = DataLoader(dataset=\"trump_dtm\").prepare_docs(save=\"trump.txt\").preprocess_octis(output_folder=\"trump_dtm\")"
   ]
  },
  {
   "cell_type": "code",
   "execution_count": null,
   "id": "c8ce49f3-7f70-400e-9f04-6727ab768262",
   "metadata": {},
   "outputs": [],
   "source": []
  }
 ],
 "metadata": {
  "kernelspec": {
   "display_name": "Python 3 (ipykernel)",
   "language": "python",
   "name": "python3"
  },
  "language_info": {
   "codemirror_mode": {
    "name": "ipython",
    "version": 3
   },
   "file_extension": ".py",
   "mimetype": "text/x-python",
   "name": "python",
   "nbconvert_exporter": "python",
   "pygments_lexer": "ipython3",
   "version": "3.10.4"
  }
 },
 "nbformat": 4,
 "nbformat_minor": 5
}
