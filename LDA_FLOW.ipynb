{
 "cells": [
  {
   "cell_type": "code",
   "execution_count": 1,
   "id": "cdf61896-5f4c-4390-937f-c9e02a26fe7c",
   "metadata": {},
   "outputs": [
    {
     "name": "stderr",
     "output_type": "stream",
     "text": [
      "/sw/arch/RHEL8/EB_production/2022/software/Python/3.10.4-GCCcore-11.3.0/lib/python3.10/site-packages/paramiko/transport.py:236: CryptographyDeprecationWarning: Blowfish has been deprecated\n",
      "  \"class\": algorithms.Blowfish,\n"
     ]
    }
   ],
   "source": [
    "# imports\n",
    "from octis.models.LDA import LDA\n",
    "from octis.dataset.dataset import Dataset\n",
    "from octis.optimization.optimizer import Optimizer\n",
    "from skopt.space.space import Real, Categorical, Integer\n",
    "from octis.evaluation_metrics.coherence_metrics import Coherence\n",
    "from octis.dataset.dataset import Dataset\n",
    "from skopt.space.space import Real, Categorical, Integer\n",
    "from octis.evaluation_metrics.coherence_metrics import Coherence\n",
    "from octis.evaluation_metrics.diversity_metrics import TopicDiversity\n",
    "from octis.optimization.optimizer import Optimizer\n",
    "optimizer=Optimizer()\n",
    "import time\n",
    "import en_core_web_sm\n",
    "nlp = en_core_web_sm.load()\n",
    "dataset = Dataset()\n",
    "dataset.load_custom_dataset_from_folder(\"pre_Flower_stop\")\n",
    "docs = [\" \".join(words) for words in dataset.get_corpus()]"
   ]
  },
  {
   "cell_type": "code",
   "execution_count": 2,
   "id": "74e28092-3c92-4424-bc02-c75bf748dd59",
   "metadata": {},
   "outputs": [],
   "source": [
    "model = LDA(num_topics=10)\n",
    "\n",
    "search_space = {\n",
    "    \"alpha\": Real(1e-5, 1e-2, prior='log-uniform')  # Regularization parameter\n",
    "}"
   ]
  },
  {
   "cell_type": "code",
   "execution_count": 3,
   "id": "b32dded4-a404-4556-9376-6057a901ce0b",
   "metadata": {},
   "outputs": [],
   "source": [
    "#SETTING METRICS\n",
    "coherence = Coherence(texts=dataset.get_corpus(), measure = 'c_v')\n",
    "diversity = TopicDiversity(topk=10)"
   ]
  },
  {
   "cell_type": "code",
   "execution_count": 4,
   "id": "f9822bed-3457-43ca-8040-b356b15112ee",
   "metadata": {},
   "outputs": [],
   "source": [
    "#RUN CONFIGURATION\n",
    "optimization_runs=3\n",
    "model_runs=2"
   ]
  },
  {
   "cell_type": "code",
   "execution_count": 5,
   "id": "eaf5aac5-162e-4c7e-bea9-8d635581a851",
   "metadata": {},
   "outputs": [
    {
     "name": "stdout",
     "output_type": "stream",
     "text": [
      "Current call:  0\n",
      "Current call:  1\n",
      "Current call:  2\n",
      "Optimizing model took: 215 seconds.\n"
     ]
    }
   ],
   "source": [
    "#OPTIMIZATION\n",
    "start = time.time()\n",
    "optimization_result = optimizer.optimize(\n",
    "    model, dataset, coherence, search_space, number_of_call=optimization_runs, \n",
    "    model_runs=model_runs, save_models=True, \n",
    "    extra_metrics=[diversity], # to keep track of other metrics\n",
    "    save_path='results/test_LDA2//')\n",
    "end = time.time()\n",
    "duration = end - start\n",
    "optimization_result.save_to_csv('results_LDA2.csv')\n",
    "print('Optimizing model took: ' + str(round(duration)) + ' seconds.')"
   ]
  },
  {
   "cell_type": "code",
   "execution_count": 6,
   "id": "bcee7195-be2e-4f79-ba0b-2496dec62b47",
   "metadata": {},
   "outputs": [
    {
     "data": {
      "text/plain": [
       "<octis.optimization.optimizer_evaluation.OptimizerEvaluation at 0x14f08279ea10>"
      ]
     },
     "execution_count": 6,
     "metadata": {},
     "output_type": "execute_result"
    }
   ],
   "source": [
    "optimizer = Optimizer()\n",
    "json_path = 'results/test_LDA2/result.json'\n",
    "optimizer.resume_optimization(json_path)"
   ]
  },
  {
   "cell_type": "code",
   "execution_count": 7,
   "id": "2b0e01f5-299d-4fba-877e-a53bba373ffa",
   "metadata": {},
   "outputs": [
    {
     "data": {
      "text/plain": [
       "dict_keys(['dataset_name', 'dataset_path', 'is_cached', 'kernel', 'acq_func', 'surrogate_model', 'optimization_type', 'model_runs', 'save_models', 'save_step', 'save_name', 'save_path', 'early_stop', 'early_step', 'plot_model', 'plot_best_seen', 'plot_name', 'log_scale_plot', 'search_space', 'model_name', 'model_attributes', 'use_partitioning', 'metric_name', 'extra_metric_names', 'metric_attributes', 'extra_metric_attributes', 'current_call', 'number_of_call', 'random_state', 'x0', 'y0', 'n_random_starts', 'initial_point_generator', 'topk', 'time_eval', 'dict_model_runs', 'f_val', 'x_iters'])"
      ]
     },
     "execution_count": 7,
     "metadata": {},
     "output_type": "execute_result"
    }
   ],
   "source": [
    "import json\n",
    "results = json.load(open(\"results/test_LDA2/result.json\",'r'))\n",
    "results.keys()"
   ]
  },
  {
   "cell_type": "code",
   "execution_count": 8,
   "id": "58fad942-6b84-4b14-ad3a-8f591a6bd7bc",
   "metadata": {},
   "outputs": [
    {
     "data": {
      "image/png": "[encoded data removed]",
      "text/plain": [
       "<Figure size 432x288 with 1 Axes>"
      ]
     },
     "metadata": {
      "needs_background": "light"
     },
     "output_type": "display_data"
    }
   ],
   "source": [
    "%matplotlib inline\n",
    "import matplotlib.pyplot as plt\n",
    "plt.xlabel('Iteration')\n",
    "plt.ylabel('Coherence score (c_v)')\n",
    "plt.title('Median coherence score per iteration')\n",
    "plt.plot(results[\"f_val\"])\n",
    "plt.show()"
   ]
  },
  {
   "cell_type": "code",
   "execution_count": 9,
   "id": "c9a8758b-04e9-4948-b8d8-274c244676f5",
   "metadata": {},
   "outputs": [
    {
     "data": {
      "text/plain": [
       "1"
      ]
     },
     "execution_count": 9,
     "metadata": {},
     "output_type": "execute_result"
    }
   ],
   "source": [
    "results[ 'f_val'].index(max(results[ 'f_val']))"
   ]
  },
  {
   "cell_type": "code",
   "execution_count": 10,
   "id": "b5bcea87-6772-41d7-80a7-e430f704fb2d",
   "metadata": {},
   "outputs": [
    {
     "name": "stdout",
     "output_type": "stream",
     "text": [
      "[0.0002871719181692572]\n"
     ]
    }
   ],
   "source": [
    "print([results['x_iters'][parameter][0] for parameter in results['x_iters'].keys()])"
   ]
  },
  {
   "cell_type": "code",
   "execution_count": null,
   "id": "d17dc6e8-2a12-4597-a543-1400979fdbc0",
   "metadata": {},
   "outputs": [],
   "source": []
  }
 ],
 "metadata": {
  "kernelspec": {
   "display_name": "Python 3 (ipykernel)",
   "language": "python",
   "name": "python3"
  },
  "language_info": {
   "codemirror_mode": {
    "name": "ipython",
    "version": 3
   },
   "file_extension": ".py",
   "mimetype": "text/x-python",
   "name": "python",
   "nbconvert_exporter": "python",
   "pygments_lexer": "ipython3",
   "version": "3.10.4"
  }
 },
 "nbformat": 4,
 "nbformat_minor": 5
}
