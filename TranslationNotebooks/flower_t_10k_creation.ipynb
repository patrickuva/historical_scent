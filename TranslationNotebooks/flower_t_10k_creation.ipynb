{
 "cells": [
  {
   "cell_type": "code",
   "execution_count": 1,
   "metadata": {},
   "outputs": [
    {
     "name": "stderr",
     "output_type": "stream",
     "text": [
      "/Users/patrickjonathan/opt/anaconda3/lib/python3.9/site-packages/pandas/core/arrays/masked.py:62: UserWarning: Pandas requires version '1.3.4' or newer of 'bottleneck' (version '1.3.2' currently installed).\n",
      "  from pandas.core import (\n",
      "Translating sentences: 100%|██████████| 10000/10000 [6:10:38<00:00,  2.22s/it]  \n"
     ]
    },
    {
     "name": "stdout",
     "output_type": "stream",
     "text": [
      "Total time taken for translation: 370.65 minutes\n"
     ]
    }
   ],
   "source": [
    "import openai\n",
    "import pandas as pd\n",
    "import logging\n",
    "import time\n",
    "from tqdm import tqdm\n",
    "\n",
    "# Set up logging\n",
    "logging.basicConfig(filename='translation_errors_eng.log', level=logging.ERROR)\n",
    "\n",
    "# Load your API key from an environment variable or directly set it\n",
    "openai.api_key = 'PUT API KEY HERE'\n",
    "\n",
    "# Load your dataframe\n",
    "df = pd.read_csv('flowers.csv') \n",
    "df2 = df.sample(n=10000, random_state=1)  # Replace with your actual file path\n",
    "historical_sentences = df2['pre_text'].tolist()\n",
    "\n",
    "# Function to translate historical Dutch to modern Dutch using GPT-3.5-turbo\n",
    "def translate_historical_to_modern(sentence):\n",
    "    try:\n",
    "        response = openai.ChatCompletion.create(\n",
    "            model=\"gpt-3.5-turbo\",  # Using GPT-3.5-turbo model\n",
    "            messages=[\n",
    "                {\"role\": \"system\", \"content\": \"Translate the by the user provided historical English text to modern English. Return only the modern English text and nothing else.\"},\n",
    "                {\"role\": \"user\", \"content\": f\"{sentence}\"}\n",
    "            ]\n",
    "        )\n",
    "        translated_sentence = response.choices[0].message['content'].strip()\n",
    "        return translated_sentence\n",
    "    except Exception as e:\n",
    "        logging.error(f\"Error translating sentence: {sentence}\\nException: {e}\")\n",
    "        return None\n",
    "\n",
    "# Measure the total translation time\n",
    "start_time = time.time()\n",
    "\n",
    "# Translate all historical Dutch sentences to modern Dutch with progress indication\n",
    "modern_sentences = []\n",
    "for sentence in tqdm(historical_sentences, desc=\"Translating sentences\"):\n",
    "    translated_sentence = translate_historical_to_modern(sentence)\n",
    "    modern_sentences.append(translated_sentence)\n",
    "\n",
    "df2['modern_sentences'] = modern_sentences\n",
    "\n",
    "# Measure the end time\n",
    "end_time = time.time()\n",
    "total_time = end_time - start_time\n",
    "\n",
    "# Log the total time taken\n",
    "logging.info(f\"Total time taken for translation: {total_time} seconds\")\n",
    "\n",
    "# Save the translated sentences, including those with None\n",
    "df2.to_csv('translated_sentences_10k_EN.csv', index=False)\n",
    "\n",
    "print(f\"Total time taken for translation: {total_time / 60:.2f} minutes\")\n"
   ]
  },
  {
   "cell_type": "code",
   "execution_count": null,
   "metadata": {},
   "outputs": [],
   "source": []
  }
 ],
 "metadata": {
  "kernelspec": {
   "display_name": "base",
   "language": "python",
   "name": "python3"
  },
  "language_info": {
   "codemirror_mode": {
    "name": "ipython",
    "version": 3
   },
   "file_extension": ".py",
   "mimetype": "text/x-python",
   "name": "python",
   "nbconvert_exporter": "python",
   "pygments_lexer": "ipython3",
   "version": "3.9.7"
  },
  "orig_nbformat": 4
 },
 "nbformat": 4,
 "nbformat_minor": 2
}
