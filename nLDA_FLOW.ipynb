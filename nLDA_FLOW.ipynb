{
 "cells": [
  {
   "cell_type": "markdown",
   "id": "d57014bf-fb95-4d13-9b52-2d7b2e8f0f98",
   "metadata": {
    "tags": []
   },
   "source": [
    "## Data Loading"
   ]
  },
  {
   "cell_type": "code",
   "execution_count": 1,
   "id": "f384aede-b6d7-4a18-9df0-09f07e85c3d8",
   "metadata": {},
   "outputs": [
    {
     "name": "stderr",
     "output_type": "stream",
     "text": [
      "/sw/arch/RHEL8/EB_production/2022/software/Python/3.10.4-GCCcore-11.3.0/lib/python3.10/site-packages/paramiko/transport.py:236: CryptographyDeprecationWarning: Blowfish has been deprecated\n",
      "  \"class\": algorithms.Blowfish,\n"
     ]
    }
   ],
   "source": [
    "# imports\n",
    "from octis.models.CTM import CTM\n",
    "from octis.dataset.dataset import Dataset\n",
    "from octis.optimization.optimizer import Optimizer\n",
    "from skopt.space.space import Real, Categorical, Integer\n",
    "from octis.evaluation_metrics.coherence_metrics import Coherence\n",
    "from octis.dataset.dataset import Dataset\n",
    "from skopt.space.space import Real, Categorical, Integer\n",
    "from octis.evaluation_metrics.coherence_metrics import Coherence\n",
    "from octis.evaluation_metrics.diversity_metrics import TopicDiversity\n",
    "from octis.optimization.optimizer import Optimizer\n",
    "optimizer=Optimizer()\n",
    "import time\n",
    "import en_core_web_sm\n",
    "nlp = en_core_web_sm.load()\n",
    "dataset = Dataset()\n",
    "dataset.load_custom_dataset_from_folder(\"pre_Flower_stop\")\n",
    "docs = [\" \".join(words) for words in dataset.get_corpus()]"
   ]
  },
  {
   "cell_type": "code",
   "execution_count": 2,
   "id": "b81d88a2-76f2-48b3-bf90-f528be5ea8b8",
   "metadata": {},
   "outputs": [],
   "source": [
    "#creating vocab, dataset\n",
    "\n",
    "# import os\n",
    "# import string\n",
    "# from octis.preprocessing.preprocessing import Preprocessing\n",
    "# os.chdir(os.path.pardir)\n",
    "# # Initialize preprocessing\n",
    "# preprocessor = Preprocessing(vocabulary=None, max_features=None, \n",
    "#                              remove_punctuation=True, punctuation=string.punctuation,\n",
    "#                              lemmatize=True, stopword_list='english',\n",
    "#                              min_chars=1, min_words_docs=0)\n",
    "\n",
    "# # preprocess\n",
    "# dataset = preprocessor.preprocess_dataset(documents_path=r'Pats_BERT_LLAMA/NL_tm_map/NL_octis_pre/corpus.tsv')\n",
    "# # save the preprocessed dataset\n",
    "# dataset.save('pre_OCT')"
   ]
  },
  {
   "cell_type": "markdown",
   "id": "27b1bb2c-275c-4684-b73e-99e5e681d6cf",
   "metadata": {
    "tags": []
   },
   "source": [
    "## Model"
   ]
  },
  {
   "cell_type": "code",
   "execution_count": 4,
   "id": "2e4f3b0b-7599-4b82-8119-ecc1ab994d49",
   "metadata": {},
   "outputs": [],
   "source": [
    "#MODEL CONFIG\n",
    "from octis.models.NeuralLDA import NeuralLDA\n",
    "model = NeuralLDA(num_topics=10)\n",
    "\n",
    "search_space = {\"num_layers\": Integer(1,3), \n",
    "                \"num_neurons\": Categorical({100, 200, 300}),\n",
    "                \"dropout\": Real(0.0, 0.95)}"
   ]
  },
  {
   "cell_type": "code",
   "execution_count": 5,
   "id": "10e933ef-335d-451a-9782-71d4dc6b353f",
   "metadata": {},
   "outputs": [],
   "source": [
    "#SETTING METRICS\n",
    "coherence = Coherence(texts=dataset.get_corpus(), measure = 'c_v')\n",
    "diversity = TopicDiversity(topk=10)"
   ]
  },
  {
   "cell_type": "code",
   "execution_count": 6,
   "id": "26aa1560-f658-476d-b28d-564fce3dbec7",
   "metadata": {},
   "outputs": [],
   "source": [
    "#RUN CONFIGURATION\n",
    "optimization_runs=10\n",
    "model_runs=2"
   ]
  },
  {
   "cell_type": "code",
   "execution_count": null,
   "id": "7e79560f-44f9-428e-b2ef-602ac08a31d3",
   "metadata": {},
   "outputs": [
    {
     "name": "stdout",
     "output_type": "stream",
     "text": [
      "Current call:  0\n",
      "Epoch: [1/100]\tSamples: [32364/3236400]\tTrain Loss: 511.25437467653103\tTime: 0:00:07.645674\n",
      "Epoch: [1/100]\tSamples: [6936/693600]\tValidation Loss: 477.42883878045706\tTime: 0:00:00.959840\n",
      "Epoch: [2/100]\tSamples: [64728/3236400]\tTrain Loss: 498.5807568667153\tTime: 0:00:06.465861\n",
      "Epoch: [2/100]\tSamples: [6936/693600]\tValidation Loss: 474.9094208714046\tTime: 0:00:00.997591\n",
      "Epoch: [3/100]\tSamples: [97092/3236400]\tTrain Loss: 497.91070337122267\tTime: 0:00:06.449047\n",
      "Epoch: [3/100]\tSamples: [6936/693600]\tValidation Loss: 470.68871253694493\tTime: 0:00:00.960042\n",
      "Epoch: [4/100]\tSamples: [129456/3236400]\tTrain Loss: 496.06625773187415\tTime: 0:00:06.624415\n",
      "Epoch: [4/100]\tSamples: [6936/693600]\tValidation Loss: 472.63261552610476\tTime: 0:00:00.963167\n",
      "Epoch: [5/100]\tSamples: [161820/3236400]\tTrain Loss: 496.64090055211807\tTime: 0:00:06.442305\n",
      "Epoch: [5/100]\tSamples: [6936/693600]\tValidation Loss: 471.009249606897\tTime: 0:00:00.964919\n",
      "Epoch: [6/100]\tSamples: [194184/3236400]\tTrain Loss: 497.4287479312469\tTime: 0:00:07.267381\n",
      "Epoch: [6/100]\tSamples: [6936/693600]\tValidation Loss: 469.7516256330197\tTime: 0:00:00.979466\n",
      "Epoch: [7/100]\tSamples: [226548/3236400]\tTrain Loss: 496.3958989323593\tTime: 0:00:06.623800\n",
      "Epoch: [7/100]\tSamples: [6936/693600]\tValidation Loss: 469.91559182841337\tTime: 0:00:00.981087\n",
      "Epoch: [8/100]\tSamples: [258912/3236400]\tTrain Loss: 496.6440554609288\tTime: 0:00:06.730462\n",
      "Epoch: [8/100]\tSamples: [6936/693600]\tValidation Loss: 468.70466488812895\tTime: 0:00:00.972066\n",
      "Epoch: [9/100]\tSamples: [291276/3236400]\tTrain Loss: 496.14327648003956\tTime: 0:00:06.524265\n",
      "Epoch: [9/100]\tSamples: [6936/693600]\tValidation Loss: 470.1512275176615\tTime: 0:00:00.962231\n",
      "Epoch: [10/100]\tSamples: [323640/3236400]\tTrain Loss: 496.34464213468283\tTime: 0:00:06.551724\n",
      "Epoch: [10/100]\tSamples: [6936/693600]\tValidation Loss: 470.1960328134011\tTime: 0:00:00.979221\n",
      "Epoch: [11/100]\tSamples: [356004/3236400]\tTrain Loss: 496.20414422902377\tTime: 0:00:06.594997\n",
      "Epoch: [11/100]\tSamples: [6936/693600]\tValidation Loss: 468.7980579697412\tTime: 0:00:00.975740\n",
      "Epoch: [12/100]\tSamples: [388368/3236400]\tTrain Loss: 496.076418640793\tTime: 0:00:06.821035\n",
      "Epoch: [12/100]\tSamples: [6936/693600]\tValidation Loss: 470.03657012552264\tTime: 0:00:00.968510\n",
      "Epoch: [13/100]\tSamples: [420732/3236400]\tTrain Loss: 496.5548720462937\tTime: 0:00:06.560542\n",
      "Epoch: [13/100]\tSamples: [6936/693600]\tValidation Loss: 470.9670345389994\tTime: 0:00:00.981449\n",
      "Early stopping\n"
     ]
    }
   ],
   "source": [
    "#OPTIMIZATION\n",
    "\n",
    "start = time.time()\n",
    "optimization_result = optimizer.optimize(\n",
    "    model, dataset, coherence, search_space, number_of_call=optimization_runs, \n",
    "    model_runs=model_runs, save_models=True, \n",
    "    extra_metrics=[diversity], # to keep track of other metrics\n",
    "    save_path='results/test_neuralLDA//')\n",
    "end = time.time()\n",
    "duration = end - start\n",
    "optimization_result.save_to_csv(\"results_neuralLDA.csv\")\n",
    "print('Optimizing model took: ' + str(round(duration)) + ' seconds.')"
   ]
  },
  {
   "cell_type": "code",
   "execution_count": null,
   "id": "eb760bb0-b2cf-4233-b5ea-a2e7fc5ffab0",
   "metadata": {},
   "outputs": [],
   "source": [
    "# optimizer=Optimizer()\n",
    "# optimization_result = optimizer.optimize(\n",
    "#     model, dataset, npmi, search_space, number_of_call=optimization_runs,\n",
    "#     model_runs=model_runs, save_models=True,\n",
    "#     extra_metrics=None, # to keep track of other metrics\n",
    "#     save_path='results/test_ctm//')"
   ]
  },
  {
   "cell_type": "code",
   "execution_count": 3,
   "id": "3319c565-4122-4bac-9e85-0e6dbd2905a8",
   "metadata": {},
   "outputs": [
    {
     "ename": "FileNotFoundError",
     "evalue": "[Errno 2] No such file or directory: 'results/test_neuralLDA/result.json'",
     "output_type": "error",
     "traceback": [
      "\u001b[0;31m---------------------------------------------------------------------------\u001b[0m",
      "\u001b[0;31mFileNotFoundError\u001b[0m                         Traceback (most recent call last)",
      "Cell \u001b[0;32mIn [3], line 3\u001b[0m\n\u001b[1;32m      1\u001b[0m optimizer \u001b[38;5;241m=\u001b[39m Optimizer()\n\u001b[1;32m      2\u001b[0m json_path \u001b[38;5;241m=\u001b[39m \u001b[38;5;124m'\u001b[39m\u001b[38;5;124mresults/test_neuralLDA/result.json\u001b[39m\u001b[38;5;124m'\u001b[39m\n\u001b[0;32m----> 3\u001b[0m \u001b[43moptimizer\u001b[49m\u001b[38;5;241;43m.\u001b[39;49m\u001b[43mresume_optimization\u001b[49m\u001b[43m(\u001b[49m\u001b[43mjson_path\u001b[49m\u001b[43m)\u001b[49m\n",
      "File \u001b[0;32m~/.local/lib/python3.10/site-packages/octis/optimization/optimizer.py:201\u001b[0m, in \u001b[0;36mOptimizer.resume_optimization\u001b[0;34m(self, name_path, extra_evaluations)\u001b[0m\n\u001b[1;32m    189\u001b[0m \u001b[38;5;250m\u001b[39m\u001b[38;5;124;03m\"\"\"\u001b[39;00m\n\u001b[1;32m    190\u001b[0m \u001b[38;5;124;03mRestart the optimization from the json file.\u001b[39;00m\n\u001b[1;32m    191\u001b[0m \n\u001b[0;32m   (...)\u001b[0m\n\u001b[1;32m    197\u001b[0m \u001b[38;5;124;03m:rtype: object\u001b[39;00m\n\u001b[1;32m    198\u001b[0m \u001b[38;5;124;03m\"\"\"\u001b[39;00m\n\u001b[1;32m    200\u001b[0m \u001b[38;5;66;03m# Restore of the parameters\u001b[39;00m\n\u001b[0;32m--> 201\u001b[0m res, opt \u001b[38;5;241m=\u001b[39m \u001b[38;5;28;43mself\u001b[39;49m\u001b[38;5;241;43m.\u001b[39;49m\u001b[43m_restore_parameters\u001b[49m\u001b[43m(\u001b[49m\u001b[43mname_path\u001b[49m\u001b[43m)\u001b[49m\n\u001b[1;32m    203\u001b[0m \u001b[38;5;66;03m# Set the number of total calls\u001b[39;00m\n\u001b[1;32m    204\u001b[0m \u001b[38;5;28mself\u001b[39m\u001b[38;5;241m.\u001b[39mnumber_of_call \u001b[38;5;241m=\u001b[39m \u001b[38;5;28mself\u001b[39m\u001b[38;5;241m.\u001b[39mnumber_of_call \u001b[38;5;241m+\u001b[39m extra_evaluations\n",
      "File \u001b[0;32m~/.local/lib/python3.10/site-packages/octis/optimization/optimizer.py:410\u001b[0m, in \u001b[0;36mOptimizer._restore_parameters\u001b[0;34m(self, name_path)\u001b[0m\n\u001b[1;32m    399\u001b[0m \u001b[38;5;250m\u001b[39m\u001b[38;5;124;03m\"\"\"\u001b[39;00m\n\u001b[1;32m    400\u001b[0m \u001b[38;5;124;03mRestore the BO parameters  from the json file\u001b[39;00m\n\u001b[1;32m    401\u001b[0m \n\u001b[0;32m   (...)\u001b[0m\n\u001b[1;32m    406\u001b[0m \u001b[38;5;124;03m:rtype: tuple\u001b[39;00m\n\u001b[1;32m    407\u001b[0m \u001b[38;5;124;03m\"\"\"\u001b[39;00m\n\u001b[1;32m    409\u001b[0m \u001b[38;5;66;03m# Load the previous results\u001b[39;00m\n\u001b[0;32m--> 410\u001b[0m \u001b[38;5;28;01mwith\u001b[39;00m \u001b[38;5;28;43mopen\u001b[39;49m\u001b[43m(\u001b[49m\u001b[43mname_path\u001b[49m\u001b[43m,\u001b[49m\u001b[43m \u001b[49m\u001b[38;5;124;43m'\u001b[39;49m\u001b[38;5;124;43mrb\u001b[39;49m\u001b[38;5;124;43m'\u001b[39;49m\u001b[43m)\u001b[49m \u001b[38;5;28;01mas\u001b[39;00m file:\n\u001b[1;32m    411\u001b[0m     optimization_object \u001b[38;5;241m=\u001b[39m json\u001b[38;5;241m.\u001b[39mload(file)\n\u001b[1;32m    413\u001b[0m \u001b[38;5;28mself\u001b[39m\u001b[38;5;241m.\u001b[39msearch_space \u001b[38;5;241m=\u001b[39m load_search_space(\n\u001b[1;32m    414\u001b[0m     optimization_object[\u001b[38;5;124m\"\u001b[39m\u001b[38;5;124msearch_space\u001b[39m\u001b[38;5;124m\"\u001b[39m])\n",
      "\u001b[0;31mFileNotFoundError\u001b[0m: [Errno 2] No such file or directory: 'results/test_neuralLDA/result.json'"
     ]
    }
   ],
   "source": [
    "optimizer = Optimizer()\n",
    "json_path = 'results/test_neuralLDA/result.json'\n",
    "optimizer.resume_optimization(json_path)"
   ]
  },
  {
   "cell_type": "markdown",
   "id": "ab5172b2-9d89-4568-a24a-2d6e8c9b8f91",
   "metadata": {
    "tags": []
   },
   "source": [
    "## Results"
   ]
  },
  {
   "cell_type": "code",
   "execution_count": null,
   "id": "e1a3686b-3d38-4b77-be81-92d3724e977e",
   "metadata": {},
   "outputs": [],
   "source": [
    "import json\n",
    "results = json.load(open(\"results/test_neuralLDA/result.json\",'r'))\n",
    "results.keys()"
   ]
  },
  {
   "cell_type": "code",
   "execution_count": null,
   "id": "d91e1f81-5470-4814-87b3-1eeced625a62",
   "metadata": {},
   "outputs": [],
   "source": [
    "%matplotlib inline\n",
    "import matplotlib.pyplot as plt\n",
    "plt.xlabel('Iteration')\n",
    "plt.ylabel('Coherence score (c_v)')\n",
    "plt.title('Median coherence score per iteration')\n",
    "plt.plot(results[\"f_val\"])\n",
    "plt.show()"
   ]
  },
  {
   "cell_type": "code",
   "execution_count": null,
   "id": "8ed02cc0-5552-40d5-a001-34b1eed727aa",
   "metadata": {},
   "outputs": [],
   "source": [
    "results[ 'f_val'].index(max(results[ 'f_val']))"
   ]
  },
  {
   "cell_type": "code",
   "execution_count": null,
   "id": "e2bd9a4e-3c81-4d9c-a3cd-46149dcf475f",
   "metadata": {},
   "outputs": [],
   "source": [
    "print([results['x_iters'][parameter][0] for parameter in results['x_iters'].keys()])"
   ]
  },
  {
   "cell_type": "code",
   "execution_count": null,
   "id": "defb22e7-57c9-4c3b-8c87-22661a2e4b3e",
   "metadata": {},
   "outputs": [],
   "source": []
  }
 ],
 "metadata": {
  "kernelspec": {
   "display_name": "Python 3 (ipykernel)",
   "language": "python",
   "name": "python3"
  },
  "language_info": {
   "codemirror_mode": {
    "name": "ipython",
    "version": 3
   },
   "file_extension": ".py",
   "mimetype": "text/x-python",
   "name": "python",
   "nbconvert_exporter": "python",
   "pygments_lexer": "ipython3",
   "version": "3.10.4"
  }
 },
 "nbformat": 4,
 "nbformat_minor": 5
}
